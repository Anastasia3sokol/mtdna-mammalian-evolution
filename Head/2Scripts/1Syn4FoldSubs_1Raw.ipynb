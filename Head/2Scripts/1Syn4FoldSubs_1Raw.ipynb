{
 "cells": [
  {
   "cell_type": "code",
   "execution_count": 26,
   "id": "ef877097",
   "metadata": {
    "ExecuteTime": {
     "end_time": "2021-07-07T17:15:49.400405Z",
     "start_time": "2021-07-07T17:15:49.101499Z"
    }
   },
   "outputs": [],
   "source": [
    "from functools import partial\n",
    "\n",
    "import numpy as np\n",
    "import pandas as pd"
   ]
  },
  {
   "cell_type": "code",
   "execution_count": 27,
   "id": "76a79332",
   "metadata": {
    "ExecuteTime": {
     "end_time": "2021-07-07T17:15:53.445020Z",
     "start_time": "2021-07-07T17:15:53.424978Z"
    }
   },
   "outputs": [],
   "source": [
    "path = '../../Body/2Derived/Mut_Spec_4Fold.csv'\n",
    "df: pd.DataFrame = pd.read_csv(path).drop(\"Unnamed: 0\", axis=1).fillna('')\n",
    "\n",
    "#print(df.columns)\n",
    "#df.head()"
   ]
  },
  {
   "cell_type": "code",
   "execution_count": 28,
   "id": "24ac9d10",
   "metadata": {
    "ExecuteTime": {
     "end_time": "2021-07-07T17:18:05.014511Z",
     "start_time": "2021-07-07T17:18:05.009581Z"
    }
   },
   "outputs": [],
   "source": [
    "def releazer(row: pd.Series, col_name='subsIn0In1'):\n",
    "    \"\"\" @param col: {'subsIn0In1', 'subsIn0Out', 'subsIn1Out'} \"\"\"\n",
    "    base = row[['Ingroup0', 'Ingroup1','Outgroup','Family']]\n",
    "    col_data = row[col_name]\n",
    "    subs = col_data.split(';')[1:]\n",
    "    base_cols = base.index.values\n",
    "    ldf = pd.DataFrame({'Subs': subs})\n",
    "    for c in base_cols:\n",
    "        ldf[c] = row[c]\n",
    "    ldf['group'] = col_name\n",
    "    return ldf"
   ]
  },
  {
   "cell_type": "code",
   "execution_count": 29,
   "id": "dfb353b4",
   "metadata": {
    "ExecuteTime": {
     "end_time": "2021-07-07T17:26:00.363701Z",
     "start_time": "2021-07-07T17:25:51.491277Z"
    }
   },
   "outputs": [
    {
     "name": "stdout",
     "output_type": "stream",
     "text": [
      "subsIn1Out done\n",
      "subsIn0Out done\n",
      "subsIn0In1 done\n"
     ]
    }
   ],
   "source": [
    "subs_collection = []\n",
    "for gr in {'subsIn0In1', 'subsIn0Out', 'subsIn1Out'}:\n",
    "    processed = df.apply(partial(releazer, col_name=gr), axis=1)\n",
    "    final_df = pd.concat(processed.values, axis=0)\n",
    "    final_df.columns = [ 'Subs', 'Ingroup0', 'Ingroup1', 'Outgroup','Family', 'group']    \n",
    "    subs_collection.append(final_df)\n",
    "    print(gr, 'done')"
   ]
  },
  {
   "cell_type": "code",
   "execution_count": 23,
   "id": "c2edaec8",
   "metadata": {},
   "outputs": [
    {
     "data": {
      "text/html": [
       "<div>\n",
       "<style scoped>\n",
       "    .dataframe tbody tr th:only-of-type {\n",
       "        vertical-align: middle;\n",
       "    }\n",
       "\n",
       "    .dataframe tbody tr th {\n",
       "        vertical-align: top;\n",
       "    }\n",
       "\n",
       "    .dataframe thead th {\n",
       "        text-align: right;\n",
       "    }\n",
       "</style>\n",
       "<table border=\"1\" class=\"dataframe\">\n",
       "  <thead>\n",
       "    <tr style=\"text-align: right;\">\n",
       "      <th></th>\n",
       "      <th>Ingroup0</th>\n",
       "      <th>Ingroup1</th>\n",
       "      <th>Family</th>\n",
       "      <th>group</th>\n",
       "      <th>Subs</th>\n",
       "    </tr>\n",
       "  </thead>\n",
       "  <tbody>\n",
       "    <tr>\n",
       "      <th>0</th>\n",
       "      <td>A&gt;C</td>\n",
       "      <td>Acomys_cahirinus</td>\n",
       "      <td>Mus_famulus</td>\n",
       "      <td>Muridae</td>\n",
       "      <td>subsIn0In1</td>\n",
       "    </tr>\n",
       "    <tr>\n",
       "      <th>1</th>\n",
       "      <td>C&gt;A</td>\n",
       "      <td>Acomys_cahirinus</td>\n",
       "      <td>Mus_famulus</td>\n",
       "      <td>Muridae</td>\n",
       "      <td>subsIn0In1</td>\n",
       "    </tr>\n",
       "    <tr>\n",
       "      <th>2</th>\n",
       "      <td>T&gt;C</td>\n",
       "      <td>Acomys_cahirinus</td>\n",
       "      <td>Mus_famulus</td>\n",
       "      <td>Muridae</td>\n",
       "      <td>subsIn0In1</td>\n",
       "    </tr>\n",
       "    <tr>\n",
       "      <th>3</th>\n",
       "      <td>T&gt;C</td>\n",
       "      <td>Acomys_cahirinus</td>\n",
       "      <td>Mus_famulus</td>\n",
       "      <td>Muridae</td>\n",
       "      <td>subsIn0In1</td>\n",
       "    </tr>\n",
       "    <tr>\n",
       "      <th>4</th>\n",
       "      <td>A&gt;T</td>\n",
       "      <td>Acomys_cahirinus</td>\n",
       "      <td>Mus_famulus</td>\n",
       "      <td>Muridae</td>\n",
       "      <td>subsIn0In1</td>\n",
       "    </tr>\n",
       "  </tbody>\n",
       "</table>\n",
       "</div>"
      ],
      "text/plain": [
       "  Ingroup0          Ingroup1       Family    group        Subs\n",
       "0      A>C  Acomys_cahirinus  Mus_famulus  Muridae  subsIn0In1\n",
       "1      C>A  Acomys_cahirinus  Mus_famulus  Muridae  subsIn0In1\n",
       "2      T>C  Acomys_cahirinus  Mus_famulus  Muridae  subsIn0In1\n",
       "3      T>C  Acomys_cahirinus  Mus_famulus  Muridae  subsIn0In1\n",
       "4      A>T  Acomys_cahirinus  Mus_famulus  Muridae  subsIn0In1"
      ]
     },
     "execution_count": 23,
     "metadata": {},
     "output_type": "execute_result"
    }
   ],
   "source": [
    "final_df.head()"
   ]
  },
  {
   "cell_type": "code",
   "execution_count": 25,
   "id": "d5e2be19",
   "metadata": {
    "ExecuteTime": {
     "end_time": "2021-07-07T17:26:27.334767Z",
     "start_time": "2021-07-07T17:26:27.294148Z"
    }
   },
   "outputs": [],
   "source": [
    "final_fantazy = pd.concat(subs_collection, axis=0)\n",
    "\n",
    "path_out = '../../Body/2Derived/4Fold_MutSpec_Trio_In_One_Row.csv'\n",
    "final_fantazy.to_csv(path_out, index=None)"
   ]
  }
 ],
 "metadata": {
  "kernelspec": {
   "display_name": "Python 3 (ipykernel)",
   "language": "python",
   "name": "python3"
  },
  "language_info": {
   "codemirror_mode": {
    "name": "ipython",
    "version": 3
   },
   "file_extension": ".py",
   "mimetype": "text/x-python",
   "name": "python",
   "nbconvert_exporter": "python",
   "pygments_lexer": "ipython3",
   "version": "3.8.10"
  }
 },
 "nbformat": 4,
 "nbformat_minor": 5
}
